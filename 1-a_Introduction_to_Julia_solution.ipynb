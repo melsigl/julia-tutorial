{
 "cells": [
  {
   "cell_type": "markdown",
   "metadata": {},
   "source": [
    "# Brief Introduction to Julia\n",
    "\n",
    "> Disclaimer: This Jupyter Notebook borrows from several notebooks from https://github.com/jolin-io/fall-in-love-with-julia, https://github.com/JuliaAcademy/JuliaTutorials, and https://www.matecdev.com/posts/julia-tutorial-science-engineering.html. Furthermore, it is  inspired by our previous Python tutorial \"Introduction to Python\"."
   ]
  },
  {
   "cell_type": "code",
   "execution_count": null,
   "metadata": {},
   "outputs": [],
   "source": [
    "using Pkg\n",
    "\n",
    "dependencies = [\n",
    "    \"IJulia\",\n",
    "    \"Genie\"\n",
    "]\n",
    "\n",
    "Pkg.add(dependencies)"
   ]
  },
  {
   "cell_type": "markdown",
   "metadata": {},
   "source": [
    "## Variables\n",
    "Similarly to Python, variables in Julia is a name to a value."
   ]
  },
  {
   "cell_type": "code",
   "execution_count": null,
   "metadata": {},
   "outputs": [],
   "source": [
    "x = 10\n",
    "println(\"Variable x=$x is of type \", typeof(x))\n",
    "\n",
    "x = \"ML Community\"\n",
    "println(\"Variable x='$x' is of type \", typeof(x))\n",
    "\n",
    "x = nothing\n",
    "println(\"Variable x=$x is of type \", typeof(x))"
   ]
  },
  {
   "cell_type": "markdown",
   "metadata": {},
   "source": [
    "Contrary to Pyhton, Julia allows Unicode characters as variable names."
   ]
  },
  {
   "cell_type": "code",
   "execution_count": null,
   "metadata": {},
   "outputs": [],
   "source": [
    "θ = 1.34  # \\theta\n",
    "2θ"
   ]
  },
  {
   "cell_type": "markdown",
   "metadata": {},
   "source": [
    "Typing backslash `\\` and then the latex name of something, and finish with pressing TAB, you can insert many symbols quite conveniently. Try it out!"
   ]
  },
  {
   "cell_type": "code",
   "execution_count": null,
   "metadata": {},
   "outputs": [],
   "source": []
  },
  {
   "cell_type": "markdown",
   "metadata": {},
   "source": [
    "Julia also comes with some pre-defined constants. For instance π:"
   ]
  },
  {
   "cell_type": "code",
   "execution_count": null,
   "metadata": {},
   "outputs": [],
   "source": [
    "π"
   ]
  },
  {
   "cell_type": "markdown",
   "metadata": {},
   "source": [
    "## Data Types\n",
    "\n",
    "- Numerical: integer, float\n",
    "- String: `\"I'm a string\"`\n",
    "- Boolean: `true`, `false`\n",
    "- Array (Lists): `[1, 2, 3]`\n",
    "- Tuple: `(a, b, c)`\n",
    "- Dictionary: `{key1: value1, key2: value2}`"
   ]
  },
  {
   "cell_type": "markdown",
   "metadata": {},
   "source": [
    "## "
   ]
  },
  {
   "cell_type": "markdown",
   "metadata": {},
   "source": [
    "### Numericals"
   ]
  },
  {
   "cell_type": "markdown",
   "metadata": {},
   "source": [
    "### Strings\n",
    "String are enclosed in either single `\"` or tripple `\"\"\"`:"
   ]
  },
  {
   "cell_type": "code",
   "execution_count": null,
   "metadata": {},
   "outputs": [],
   "source": [
    "s1 = \"Today, I am learning the Julia programming language.\"\n",
    "s2 = \"\"\"Today, I am learning the Julia programming language.\"\"\""
   ]
  },
  {
   "cell_type": "markdown",
   "metadata": {},
   "source": [
    "A single `'` defines a character and not a string:"
   ]
  },
  {
   "cell_type": "code",
   "execution_count": null,
   "metadata": {},
   "outputs": [],
   "source": [
    "typeof('a')"
   ]
  },
  {
   "cell_type": "code",
   "execution_count": null,
   "metadata": {},
   "outputs": [],
   "source": [
    "println(typeof(s1))\n",
    "# A string consists of several characters:\n",
    "println(typeof(s1[1]))"
   ]
  },
  {
   "cell_type": "markdown",
   "metadata": {},
   "source": [
    "#### String Interpolation\n",
    "We can use the dollar sign (`$`) to access variables from within a string and insert this variable's value into this string:"
   ]
  },
  {
   "cell_type": "code",
   "execution_count": null,
   "metadata": {},
   "outputs": [],
   "source": [
    "name = \"Jane\""
   ]
  },
  {
   "cell_type": "code",
   "execution_count": null,
   "metadata": {},
   "outputs": [],
   "source": [
    "println(\"Hello, my name is $name, and today I learn a little bit of the Julia programming language!\")"
   ]
  },
  {
   "cell_type": "markdown",
   "metadata": {},
   "source": [
    "We can also perform calculations this way:"
   ]
  },
  {
   "cell_type": "code",
   "execution_count": null,
   "metadata": {},
   "outputs": [],
   "source": [
    "a = 5\n",
    "b = 3\n",
    "println(\"We can calculate $a times $b and this results in $(a * b).\")"
   ]
  },
  {
   "cell_type": "markdown",
   "metadata": {},
   "source": [
    "#### String Concatenation\n",
    "There are two ways to perform string concatenation:\n",
    "1. Use the function `string()`.\n",
    "2. Use `*`."
   ]
  },
  {
   "cell_type": "code",
   "execution_count": null,
   "metadata": {},
   "outputs": [],
   "source": [
    "s3 = \"How many cats \";\n",
    "s4 = \"is too many cats?\";\n",
    "😺 = 10"
   ]
  },
  {
   "cell_type": "code",
   "execution_count": null,
   "metadata": {},
   "outputs": [],
   "source": [
    "string(s3, s4)"
   ]
  },
  {
   "cell_type": "code",
   "execution_count": null,
   "metadata": {},
   "outputs": [],
   "source": [
    "string(\"I don't know, but \", 😺, \" is a good start to become a (crazy?!) cat person.\")"
   ]
  },
  {
   "cell_type": "code",
   "execution_count": null,
   "metadata": {},
   "outputs": [],
   "source": [
    "s3 * s4"
   ]
  },
  {
   "cell_type": "markdown",
   "metadata": {},
   "source": [
    "### Boolean"
   ]
  },
  {
   "cell_type": "code",
   "execution_count": null,
   "metadata": {},
   "outputs": [],
   "source": [
    "println(true)\n",
    "println(false)"
   ]
  },
  {
   "cell_type": "markdown",
   "metadata": {},
   "source": [
    "### Arrays\n",
    "Arrays in Julia are mutable and contains an ordered collection of items."
   ]
  },
  {
   "cell_type": "code",
   "execution_count": null,
   "metadata": {},
   "outputs": [],
   "source": [
    "myfavoritefood = [\"Apfelstrudel\", \"Milchreis\", \"Pizza\", \"Kürbissuppe\"]"
   ]
  },
  {
   "cell_type": "markdown",
   "metadata": {},
   "source": [
    "The `1` in `Array{String,1}` means that it is a one dimensional array. An `Array{String,2}` would be a two dimensional matrix."
   ]
  },
  {
   "cell_type": "code",
   "execution_count": null,
   "metadata": {},
   "outputs": [],
   "source": [
    "fibonacci = [1, 1, 2, 3, 5, 8, 13]\n",
    "mixture = [1, 1, 2, 3, \"Ted\", \"Robyn\"] # mixed data types also possible"
   ]
  },
  {
   "cell_type": "code",
   "execution_count": null,
   "metadata": {},
   "outputs": [],
   "source": [
    "# access:\n",
    "myfavoritefood[1]"
   ]
  },
  {
   "cell_type": "code",
   "execution_count": null,
   "metadata": {},
   "outputs": [],
   "source": [
    "# edit an item with indexing:\n",
    "myfavoritefood[1] = \"Apfelstrudel ohne Rosinen\""
   ]
  },
  {
   "cell_type": "markdown",
   "metadata": {},
   "source": [
    "Arrays are also editable with the functions `push!` and `pop!`:"
   ]
  },
  {
   "cell_type": "code",
   "execution_count": null,
   "metadata": {},
   "outputs": [],
   "source": [
    "push!(fibonacci, 21)\n",
    "println(fibonacci)\n",
    "pop!(fibonacci)\n",
    "println(fibonacci)"
   ]
  },
  {
   "cell_type": "markdown",
   "metadata": {},
   "source": [
    "Julia also supports list comrehensions:"
   ]
  },
  {
   "cell_type": "code",
   "execution_count": null,
   "metadata": {},
   "outputs": [],
   "source": [
    "[i * 2 for i in [1, 2, 3]]"
   ]
  },
  {
   "cell_type": "markdown",
   "metadata": {},
   "source": [
    "### Tuples"
   ]
  },
  {
   "cell_type": "code",
   "execution_count": null,
   "metadata": {},
   "outputs": [],
   "source": [
    "println((5, 4, 7))\n",
    "println((\"a\", \"b\", \"c\"))\n",
    "\n",
    "favorite_animals = (\"cats\", \"rabbit\", \"\")\n",
    "println(favorite_animals)\n",
    "\n",
    "# access:\n",
    "println(favorite_animals[1])  # index starts with 1\n",
    "\n",
    "# Named tuples also possible:\n",
    "student = (name=\"Harry\", surname=\"Potter\", number=\"4\", street_name=\"Privet Drive\", locality=\"Little Whinging\", post_town=\"Surrey\")\n",
    "println(student.name)\n"
   ]
  },
  {
   "cell_type": "markdown",
   "metadata": {},
   "source": [
    "### Dictionaries\n",
    "Dictionaries in Julia are somewhat similar as in Python, yet instantiation is a little bit different as it requires the keyword `Dict()`. "
   ]
  },
  {
   "cell_type": "code",
   "execution_count": null,
   "metadata": {},
   "outputs": [],
   "source": [
    "student = Dict(\n",
    "    \"Name\" => \"Harry\",\n",
    "    \"Surname\" => \"Potter\",\n",
    "    \"Number\" => \"4\",\n",
    "    \"StreetName\" => \"Privet Drive\",\n",
    "    \"Locality\" => \"Little Whinging\",\n",
    "    \"PostTown\" => \"Surrey\"\n",
    ")\n"
   ]
  },
  {
   "cell_type": "code",
   "execution_count": null,
   "metadata": {},
   "outputs": [],
   "source": [
    "# access\n",
    "println(student[\"Name\"])"
   ]
  },
  {
   "cell_type": "code",
   "execution_count": null,
   "metadata": {},
   "outputs": [],
   "source": [
    "# add new key-value pair\n",
    "student[\"House\"] = \"Gryffindor\"\n",
    "println(student)"
   ]
  },
  {
   "cell_type": "markdown",
   "metadata": {},
   "source": [
    "We can use the function `pop!` to remove a key from our dictionary:"
   ]
  },
  {
   "cell_type": "code",
   "execution_count": null,
   "metadata": {},
   "outputs": [],
   "source": [
    "pop!(student, \"House\")"
   ]
  },
  {
   "cell_type": "code",
   "execution_count": null,
   "metadata": {},
   "outputs": [],
   "source": [
    "student"
   ]
  },
  {
   "cell_type": "markdown",
   "metadata": {},
   "source": [
    "Unlike tuples and arrays, dictionaries are not ordered. So, we can't accesss them with integer indices."
   ]
  },
  {
   "cell_type": "code",
   "execution_count": null,
   "metadata": {},
   "outputs": [],
   "source": [
    "student[1]"
   ]
  },
  {
   "cell_type": "markdown",
   "metadata": {},
   "source": [
    "### Exercise"
   ]
  },
  {
   "cell_type": "markdown",
   "metadata": {},
   "source": [
    "## Control Structures"
   ]
  },
  {
   "cell_type": "markdown",
   "metadata": {},
   "source": [
    "### If/Else"
   ]
  },
  {
   "cell_type": "code",
   "execution_count": null,
   "metadata": {},
   "outputs": [],
   "source": [
    "a = 18\n",
    "if a < 16\n",
    "    println(\"Machine Learning Community has not yet started!\")\n",
    "elseif a >= 18\n",
    "    println(\"Sad, Machine Learning Community has come and gone.\")\n",
    "else\n",
    "    println(\"Machine Learning Community time!\")\n",
    "end"
   ]
  },
  {
   "cell_type": "markdown",
   "metadata": {},
   "source": [
    "Also possible to use the ternary operator:"
   ]
  },
  {
   "cell_type": "code",
   "execution_count": null,
   "metadata": {},
   "outputs": [],
   "source": [
    "a >= 16 && a <= 18 ? \"Machine Learning Community time!\" : \"Me, patiently waiting for the next Machine Learning Community.\""
   ]
  },
  {
   "cell_type": "markdown",
   "metadata": {},
   "source": [
    "### Loops\n",
    "Julia has `while` and `for` loops.\n",
    "\n",
    "#### `while` Loops\n",
    "\n",
    "Syntax: \n",
    "```julia\n",
    "while *condition*\n",
    "    *loop body*\n",
    "end"
   ]
  },
  {
   "cell_type": "code",
   "execution_count": null,
   "metadata": {},
   "outputs": [],
   "source": [
    "n = 0\n",
    "while n < 10\n",
    "    n += 1\n",
    "    println(n)\n",
    "end\n",
    "n"
   ]
  },
  {
   "cell_type": "code",
   "execution_count": null,
   "metadata": {},
   "outputs": [],
   "source": [
    "myfriends = [\"Ted\", \"Robyn\", \"Barney\", \"Lily\", \"Marshall\"]\n",
    "\n",
    "i = 1\n",
    "while i <= length(myfriends)\n",
    "    friend = myfriends[i]\n",
    "    println(\"Hi $friend, it's great to see you!\")\n",
    "    i += 1\n",
    "end"
   ]
  },
  {
   "cell_type": "markdown",
   "metadata": {},
   "source": [
    "### `for` Loops\n",
    "\n",
    "The syntax for a `for` loop is\n",
    "\n",
    "```julia\n",
    "for *var* in *loop iterable*\n",
    "    *loop body*\n",
    "end\n",
    "```"
   ]
  },
  {
   "cell_type": "code",
   "execution_count": null,
   "metadata": {},
   "outputs": [],
   "source": [
    "for friend in myfriends\n",
    "    println(friend)\n",
    "end"
   ]
  },
  {
   "cell_type": "code",
   "execution_count": null,
   "metadata": {},
   "outputs": [],
   "source": [
    "for i = 1:2, j = 2:4\n",
    "    println(i, j)\n",
    "end"
   ]
  },
  {
   "cell_type": "markdown",
   "metadata": {},
   "source": [
    "## Functions\n",
    "\n",
    "Julia offers two ways to define functions:\n",
    "1. Use of the keywords `function` and `end`.\n",
    "2. In a single line as an assignment.\n",
    "\n",
    "Option 1:"
   ]
  },
  {
   "cell_type": "code",
   "execution_count": null,
   "metadata": {},
   "outputs": [],
   "source": [
    "function sayhi(name)\n",
    "    println(\"Hi $name, it's great to see you!\")\n",
    "end"
   ]
  },
  {
   "cell_type": "code",
   "execution_count": null,
   "metadata": {},
   "outputs": [],
   "source": [
    "sayhi(\"R2D2\")"
   ]
  },
  {
   "cell_type": "code",
   "execution_count": null,
   "metadata": {},
   "outputs": [],
   "source": [
    "function square(x)\n",
    "    x^2\n",
    "end"
   ]
  },
  {
   "cell_type": "code",
   "execution_count": null,
   "metadata": {},
   "outputs": [],
   "source": [
    "square(5)"
   ]
  },
  {
   "cell_type": "markdown",
   "metadata": {},
   "source": [
    "Option 2:"
   ]
  },
  {
   "cell_type": "code",
   "execution_count": null,
   "metadata": {},
   "outputs": [],
   "source": [
    "sayhi2(name) = println(\"Hi $name, it's great to see you!\")"
   ]
  },
  {
   "cell_type": "code",
   "execution_count": null,
   "metadata": {},
   "outputs": [],
   "source": [
    "square2(x) = x^2"
   ]
  },
  {
   "cell_type": "markdown",
   "metadata": {},
   "source": [
    "### Duck-Typing\n",
    "Julia, like Pyhton, supports duck-typing. Recall: *\"If it quacks like a duck, walks like a duck, it most probably is a duck\"*\n",
    "\n",
    "For instance, we could call our function `sayhi` with any data type that is printable:"
   ]
  },
  {
   "cell_type": "code",
   "execution_count": null,
   "metadata": {},
   "outputs": [],
   "source": [
    "sayhi(5)"
   ]
  },
  {
   "cell_type": "markdown",
   "metadata": {},
   "source": [
    "We could also square a matrix:"
   ]
  },
  {
   "cell_type": "code",
   "execution_count": null,
   "metadata": {},
   "outputs": [],
   "source": [
    "A = rand(3, 3)"
   ]
  },
  {
   "cell_type": "code",
   "execution_count": null,
   "metadata": {},
   "outputs": [],
   "source": [
    "square(A)"
   ]
  },
  {
   "cell_type": "markdown",
   "metadata": {},
   "source": [
    "Could we also square an array, i. e. a vector?"
   ]
  },
  {
   "cell_type": "code",
   "execution_count": null,
   "metadata": {},
   "outputs": [],
   "source": [
    "a = [1, 2, 3, 4]\n",
    "square(a)"
   ]
  },
  {
   "cell_type": "markdown",
   "metadata": {},
   "source": [
    "No, we cannot square a vector. Why? While the square of a matrix is well defined mathematically, the same is not true for squaring a vector (`a^2`).\n",
    "\n",
    "How could we square each element of our array?"
   ]
  },
  {
   "cell_type": "markdown",
   "metadata": {},
   "source": [
    "### Exercise: Square each element of our array `a`."
   ]
  },
  {
   "cell_type": "code",
   "execution_count": null,
   "metadata": {},
   "outputs": [],
   "source": []
  },
  {
   "cell_type": "code",
   "execution_count": null,
   "metadata": {},
   "outputs": [],
   "source": [
    "square_a = [square(elem) for elem in a]\n",
    "square_a"
   ]
  },
  {
   "cell_type": "markdown",
   "metadata": {},
   "source": [
    "### Mutating vs. non-mutating functions\n",
    "\n",
    "By convention, functions followed by `!` alter their contents and functions lacking `!` do not.\n",
    "\n",
    "For example, let's look at the difference between `sort` and `sort!`."
   ]
  },
  {
   "cell_type": "code",
   "execution_count": null,
   "metadata": {},
   "outputs": [],
   "source": [
    "c = [5, 4, 2, 3, 1, 6]\n",
    "println(c)\n",
    "println(sort(c))\n",
    "println(c)"
   ]
  },
  {
   "cell_type": "code",
   "execution_count": null,
   "metadata": {},
   "outputs": [],
   "source": [
    "# with modification:\n",
    "println(c)\n",
    "println(sort!(c))\n",
    "println(c)"
   ]
  },
  {
   "cell_type": "markdown",
   "metadata": {},
   "source": [
    "## Exercises\n",
    "\n",
    "### 1. Fibonacci Implementation\n",
    "\n",
    "Each new term in the Fibonacci sequence is generated by adding the previous two terms. By starting with 1 and 2, the first 10 terms will be:\n",
    "`1, 2, 3, 5, 8, 13, 21, 34, 55, 89, ...`\n",
    "\n",
    "Write a function to calculate the fibonacci numbers:"
   ]
  },
  {
   "cell_type": "code",
   "execution_count": null,
   "metadata": {},
   "outputs": [],
   "source": [
    "function myfibonacci(n)\n",
    "    println(\"Nothing to calculate yet.\")\n",
    "end"
   ]
  },
  {
   "cell_type": "code",
   "execution_count": null,
   "metadata": {},
   "outputs": [],
   "source": [
    "function myfibonacci(n)\n",
    "    if n in [0, 1]\n",
    "        return n\n",
    "    else\n",
    "        return myfibonacci(n - 1) + myfibonacci(n - 2)\n",
    "    end\n",
    "end"
   ]
  },
  {
   "cell_type": "code",
   "execution_count": null,
   "metadata": {},
   "outputs": [],
   "source": [
    "myfibonacci(10)"
   ]
  },
  {
   "cell_type": "markdown",
   "metadata": {},
   "source": [
    "### 2. Fibonacci: Sum of Even Numbers\n",
    "By considering the terms in the Fibonacci sequence whose values do not exceed 10, find the sum of the even-valued terms."
   ]
  },
  {
   "cell_type": "code",
   "execution_count": null,
   "metadata": {},
   "outputs": [],
   "source": [
    "# insert your implementation here"
   ]
  },
  {
   "cell_type": "code",
   "execution_count": null,
   "metadata": {},
   "outputs": [],
   "source": [
    "fibonacci_sequence = [myfibonacci(i) for i in collect(1:10)]"
   ]
  },
  {
   "cell_type": "code",
   "execution_count": null,
   "metadata": {},
   "outputs": [],
   "source": [
    "fibonacci_sequence_even = [n for n in fibonacci_sequence if n % 2 == 0]"
   ]
  },
  {
   "cell_type": "code",
   "execution_count": null,
   "metadata": {},
   "outputs": [],
   "source": [
    "sum(fibonacci_sequence_even)"
   ]
  },
  {
   "cell_type": "markdown",
   "metadata": {},
   "source": [
    "### 3. Implement QuickSort\n",
    "\n",
    "Recall, QuickSort is an in-place divide-and-conquer sorting algorithm. \n",
    "\n",
    "QuickSort first partitions (divides) an array into smaller more manageable sub-arrays.\n",
    "In a second step, the item in a sub-array are sorted (conquer). \n",
    "Finally, in the last step these sorted sub-arrays are combined.\n",
    "\n",
    "For convenience, here is the whole algorithm in pseudocode:\n",
    "\n",
    "```\n",
    "QuickSort(array, first_index, last_index):\n",
    "   if first_index < last_index:\n",
    "      partition_index = Partition(array, first_index, last_index)\n",
    "      QuickSort(array, first_index, partition_index - 1)\n",
    "      QuickSort(array, partition_index + 1, last_index)\n",
    "```\n",
    "\n",
    "Of course, the key to this algorithm lies within the funciton `Partition`:\n",
    "```\n",
    "Partition(array, first_index, last_index):\n",
    "   element = array[last_index]\n",
    "   index = first_index - 1\n",
    "\n",
    "   for current_index = first_index to last_index - 1:\n",
    "      if array[current_index] <= element:\n",
    "         index = index + 1 \n",
    "         exchange array[index] with array[current_index]\n",
    "   \n",
    "   exchange array[index + 1] with array[last_index]\n",
    "\n",
    "   return index + 1\n",
    "```"
   ]
  },
  {
   "cell_type": "code",
   "execution_count": null,
   "metadata": {},
   "outputs": [],
   "source": [
    "function partition(array, first_index, last_index)\n",
    "    println(\"Your implementation here\")\n",
    "end\n",
    "\n",
    "function quicksort(array, first_index, last_index)\n",
    "    println(\"Your implementation here\")\n",
    "end"
   ]
  },
  {
   "cell_type": "code",
   "execution_count": null,
   "metadata": {},
   "outputs": [],
   "source": [
    "function partition(array, first_index, last_index)\n",
    "    element = array[last_index]\n",
    "    index = first_index - 1\n",
    "\n",
    "    for current_index = first_index:last_index-1\n",
    "        if array[current_index] <= element\n",
    "            index = index + 1\n",
    "\n",
    "            # exchange array[index] with array[current_index]\n",
    "            tmp = array[index]\n",
    "            array[index] = array[current_index]\n",
    "            array[current_index] = tmp\n",
    "        end\n",
    "    end\n",
    "\n",
    "    # exchange array[index + 1] with array[last_index]\n",
    "    tmp = array[index+1]\n",
    "    array[index+1] = array[last_index]\n",
    "    array[last_index] = tmp\n",
    "\n",
    "    return index + 1\n",
    "end\n",
    "\n",
    "function quicksort(array, first_index, last_index)\n",
    "    if first_index < last_index\n",
    "        partition_index = partition(array, first_index, last_index)\n",
    "        quicksort(array, first_index, partition_index - 1)\n",
    "        quicksort(array, partition_index + 1, last_index)\n",
    "    end\n",
    "end"
   ]
  },
  {
   "cell_type": "code",
   "execution_count": null,
   "metadata": {},
   "outputs": [],
   "source": [
    "my_array = [5, 23, 1, 5, 7, 3, 12, 34, 2, 9, 8]"
   ]
  },
  {
   "cell_type": "code",
   "execution_count": null,
   "metadata": {},
   "outputs": [],
   "source": [
    "quicksort(my_array, 1, length(my_array))\n",
    "my_array"
   ]
  },
  {
   "cell_type": "markdown",
   "metadata": {},
   "source": [
    "### 4. Implement Caesar Cipher\n",
    "\n",
    "Ceasar cipher is a simple encryption technique in which all letters in the alphabet are shifted according to some pre-defined number (offset).\n",
    "\n",
    "Your task is to implement this encryption. Only shift letters A-Z and output the text in uppercase.\n",
    "\n",
    "Recall: A string is composed of several characters.\n",
    "\n",
    "Hint: Try to add a number to a character of your choice."
   ]
  },
  {
   "cell_type": "code",
   "execution_count": null,
   "metadata": {},
   "outputs": [],
   "source": [
    "text_to_encrypt = \"Would it save you a lot of time if I just gave up and went mad now?\""
   ]
  },
  {
   "cell_type": "code",
   "execution_count": null,
   "metadata": {},
   "outputs": [],
   "source": [
    "function caesar(text, offset)\n",
    "    plain = [elem for elem in 'A':'Z']\n",
    "    return text\n",
    "end"
   ]
  },
  {
   "cell_type": "code",
   "execution_count": null,
   "metadata": {},
   "outputs": [],
   "source": [
    "function replaceChar(char, plain, cipher)\n",
    "    if char in plain\n",
    "        index = findfirst(isequal(char), plain)\n",
    "        return cipher[index]\n",
    "    else\n",
    "        return char\n",
    "    end\n",
    "end\n",
    "\n",
    "function caesar(text, offset)\n",
    "    plain = [elem for elem in 'A':'Z']\n",
    "    cipher = circshift(plain, offset)\n",
    "    upper = uppercase(text)\n",
    "    encrypted = [replaceChar(element, plain, cipher) for element in upper]\n",
    "    return String(encrypted)\n",
    "end\n"
   ]
  },
  {
   "cell_type": "code",
   "execution_count": null,
   "metadata": {},
   "outputs": [],
   "source": [
    "caesar(text_to_encrypt, 5)"
   ]
  }
 ],
 "metadata": {
  "kernelspec": {
   "display_name": "Julia 1.4.1",
   "language": "julia",
   "name": "julia-1.4"
  },
  "language_info": {
   "file_extension": ".jl",
   "mimetype": "application/julia",
   "name": "julia",
   "version": "1.4.1"
  },
  "orig_nbformat": 4,
  "vscode": {
   "interpreter": {
    "hash": "916dbcbb3f70747c44a77c7bcd40155683ae19c65e1c03b4aa3499c5328201f1"
   }
  }
 },
 "nbformat": 4,
 "nbformat_minor": 2
}
